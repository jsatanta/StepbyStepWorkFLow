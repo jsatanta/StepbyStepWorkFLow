{
 "cells": [
  {
   "cell_type": "markdown",
   "id": "e73a7f0c",
   "metadata": {},
   "source": [
    "### Siapkan data tanpa fillna dan get_dummies/OneHotEncoder"
   ]
  },
  {
   "cell_type": "code",
   "execution_count": null,
   "id": "19a8f4cc",
   "metadata": {},
   "outputs": [],
   "source": [
    "import pandas as pd\n",
    "from sklearn.model_selection import train_test_split\n",
    "\n",
    "# Baca data\n",
    "df = pd.read_csv(\".../.../\")\n",
    "\n",
    "# drop column yang tidak perlu\n",
    "df.drop(columns=[\"....\",\".....\"], inplace=True)\n",
    "\n",
    "# Bagi data ke X dan y\n",
    "X = df.drop(\"Xxxxx\")\n",
    "y = df[\"xxxx\"]\n",
    "\n",
    "# Bagi data ke dalam Train dan test\n",
    "X_train, X_test, y_train, y_test = train_test_split(X, y, test_size= 0.2, stratify=y, random_state=42) # Stratify jika clasification problem\n",
    "# Check shape\n",
    "X_train.shape, X_test.shape, y_train.shape, y_train.shape"
   ]
  },
  {
   "cell_type": "markdown",
   "id": "e1d4c5ff",
   "metadata": {},
   "source": [
    "### Preprocessor data\n",
    "#### Mini pipeline"
   ]
  },
  {
   "cell_type": "code",
   "execution_count": null,
   "id": "5c043c09",
   "metadata": {},
   "outputs": [],
   "source": [
    "# Import library\n",
    "from sklearn.pipeline import Pipeline\n",
    "from sklearn.imputer import SimpleImputer\n",
    "from sklearn.preprocessing import MinMaxScaler, OneHotEncoder\n",
    "\n",
    "# Process numerical\n",
    "num_pipeline = Pipeline([\n",
    "    (\"imputer\", SimpleImputer(strategy=\"mean\")), # Step 1, Fill null value\n",
    "    (\"scaller\", MinMaxScaler()), # Step 2\n",
    "    (\"next_step\"), # Step 3\n",
    "])\n",
    "\n",
    "# Process categorical\n",
    "cat_pipeline = Pipeline([\n",
    "    (\"imputer\", SimpleImputer(strategy=\"most_frequent\")), # Step 1, Fill null value\n",
    "    (\"onehot\", OneHotEncoder()), # Step 2\n",
    "    (\"next_step\"), # Step 3\n",
    "])\n",
    "\n",
    "# ColumnTranformer berfungsi untuk memisahkan column mana yang dingin dimasukkan ke pipeline yang diinginkan\n",
    "# Karena terdapat 2 pipeline untuk jenis data yang berbeda, jdi kedua pipeline digabung\n",
    "# menggunakan ColumnTranformer\n",
    "from sklearn.compose import ColumnTransformer\n",
    "preprocessor = ColumnTransformer([\n",
    "    (\"numerical\", num_pipeline, [\"colnum_1\", \"colnum_2\",\" colnum_3\"]), # Insert pipeline and column\n",
    "    (\"categorical\", cat_pipeline, [\"catnum_1\", \"catnum_2\",\" catnum_3\"])\n",
    "])"
   ]
  },
  {
   "cell_type": "markdown",
   "id": "7ff14d94",
   "metadata": {},
   "source": [
    "### Big Pipeline"
   ]
  },
  {
   "cell_type": "code",
   "execution_count": null,
   "id": "9ff3471b",
   "metadata": {},
   "outputs": [],
   "source": [
    "from sklearn.neighbors import KNeighborsClassifier # Tergantung jenis problem\n",
    "\n",
    "# Buat pipeline yang menghubungkan preprocess data dan model\n",
    "pipeline = Pipeline([\n",
    "    (\"preprocess\", preprocessor), # Umumnya prepocess data\n",
    "    (\"model\", KneighborsClassifier()) # Algoritma model\n",
    "])\n",
    "\n",
    "# fit semuanya\n",
    "pipeline.fit(X_train, y_train)\n",
    "\n",
    "# Check score\n",
    "pipeline.score(X_test_y_test)"
   ]
  },
  {
   "cell_type": "markdown",
   "id": "6b270484",
   "metadata": {},
   "source": [
    "Dari proses diatas hanya train secara kasar tidak menggunakan Tuning and Kfolf Cross Validation"
   ]
  },
  {
   "cell_type": "markdown",
   "id": "8a4e3317",
   "metadata": {},
   "source": [
    "### Tuning model menggunakan GridSearchCV"
   ]
  },
  {
   "cell_type": "code",
   "execution_count": null,
   "id": "77e1b369",
   "metadata": {},
   "outputs": [],
   "source": [
    "from sklearn.model_selection import GridSearchCV\n",
    "\n",
    "# Buat parameter (liat parameter yang ingin di tuning)\n",
    "params = {\n",
    "    \"model__n_neighbors\": np.arrange(1, 51, 2), # penggunaan model__ agar gridsearch tau bahwa model menggunakan pipeline\n",
    "    \"model__weights\": [\"uniform\", \"distance\"],\n",
    "    \"model__p\": [1, 2]\n",
    "    \n",
    "}\n",
    "\n",
    "model = GridSearchCV(pipeline, params, cv=3, n_jobs=-1, verbose=1)\n",
    "# cv= cross validation artinya berapa x train dibelah2 untuk data kecil 3-5\n",
    "# n_jobs = -1 artinya menggunakan seluruh core CPU agar proses cepat\n",
    "# verbose =  menampilkan report dari train model agar tidak heng\n",
    "\n",
    "model.fit(X_train, y_train)\n",
    "\n",
    "# Check hasil\n",
    "model.cv_result # lebih mudah ubah menjadi dataframe \n",
    "\n",
    "# melihat best paramsnya\n",
    "model.best_params_"
   ]
  }
 ],
 "metadata": {
  "kernelspec": {
   "display_name": "Python 3 (ipykernel)",
   "language": "python",
   "name": "python3"
  },
  "language_info": {
   "codemirror_mode": {
    "name": "ipython",
    "version": 3
   },
   "file_extension": ".py",
   "mimetype": "text/x-python",
   "name": "python",
   "nbconvert_exporter": "python",
   "pygments_lexer": "ipython3",
   "version": "3.10.4"
  }
 },
 "nbformat": 4,
 "nbformat_minor": 5
}
